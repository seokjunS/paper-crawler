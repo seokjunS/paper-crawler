{
 "cells": [
  {
   "cell_type": "code",
   "execution_count": 1,
   "metadata": {},
   "outputs": [],
   "source": [
    "from bs4 import BeautifulSoup\n",
    "from pathlib import Path\n",
    "import requests"
   ]
  },
  {
   "cell_type": "code",
   "execution_count": 33,
   "metadata": {},
   "outputs": [],
   "source": [
    "base_url = \"https://papers.nips.cc\"\n",
    "list_url = f\"{base_url}/book/advances-in-neural-information-processing-systems-32-2019\"\n",
    "html = requests.get(list_url)"
   ]
  },
  {
   "cell_type": "code",
   "execution_count": 5,
   "metadata": {},
   "outputs": [],
   "source": [
    "soup = BeautifulSoup(html.text)"
   ]
  },
  {
   "cell_type": "code",
   "execution_count": 16,
   "metadata": {},
   "outputs": [],
   "source": [
    "paper_lis = soup.body.find(\"div\", \"main-container\").div.find_all(\"li\")"
   ]
  },
  {
   "cell_type": "code",
   "execution_count": 22,
   "metadata": {},
   "outputs": [
    {
     "data": {
      "text/plain": [
       "(<li><a href=\"/paper/8296-multimodal-model-agnostic-meta-learning-via-task-aware-modulation\">Multimodal Model-Agnostic Meta-Learning via Task-Aware Modulation</a> <a class=\"author\" href=\"/author/risto-vuorio-12416\">Risto Vuorio</a>, <a class=\"author\" href=\"/author/shao-hua-sun-12417\">Shao-Hua Sun</a>, <a class=\"author\" href=\"/author/hexiang-hu-10743\">Hexiang Hu</a>, <a class=\"author\" href=\"/author/joseph-j-lim-5207\">Joseph J. Lim</a></li>,\n",
       " <li><a href=\"/paper/9723-mixtape-breaking-the-softmax-bottleneck-efficiently\">Mixtape: Breaking the Softmax Bottleneck Efficiently</a> <a class=\"author\" href=\"/author/zhilin-yang-8638\">Zhilin Yang</a>, <a class=\"author\" href=\"/author/thang-luong-15115\">Thang Luong</a>, <a class=\"author\" href=\"/author/russ-r-salakhutdinov-2816\">Russ R. Salakhutdinov</a>, <a class=\"author\" href=\"/author/quoc-v-le-7287\">Quoc V. Le</a></li>)"
      ]
     },
     "execution_count": 22,
     "metadata": {},
     "output_type": "execute_result"
    }
   ],
   "source": [
    "paper_lis[0], paper_lis[-1]"
   ]
  },
  {
   "cell_type": "code",
   "execution_count": 39,
   "metadata": {},
   "outputs": [],
   "source": [
    "output_file = Path(\"nips_2019_paper_list.tsv\")\n",
    "\n",
    "with output_file.open(\"w\") as fw:\n",
    "    fw.write(\"title\\turl\\tauthor\\n\")\n",
    "    \n",
    "    for li in paper_lis:\n",
    "        a = li.a\n",
    "        title = a.text\n",
    "        url = f\"{base_url}{a['href']}.pdf\"\n",
    "        author = li.find(\"a\", \"author\").text\n",
    "        \n",
    "        fw.write(f\"{title}\\t{url}\\t{author}\\n\")"
   ]
  },
  {
   "cell_type": "code",
   "execution_count": null,
   "metadata": {},
   "outputs": [],
   "source": []
  }
 ],
 "metadata": {
  "kernelspec": {
   "display_name": "Python 3",
   "language": "python",
   "name": "python3"
  },
  "language_info": {
   "codemirror_mode": {
    "name": "ipython",
    "version": 3
   },
   "file_extension": ".py",
   "mimetype": "text/x-python",
   "name": "python",
   "nbconvert_exporter": "python",
   "pygments_lexer": "ipython3",
   "version": "3.6.5"
  }
 },
 "nbformat": 4,
 "nbformat_minor": 4
}
