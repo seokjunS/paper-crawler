{
 "cells": [
  {
   "cell_type": "code",
   "execution_count": 2,
   "metadata": {},
   "outputs": [],
   "source": [
    "from bs4 import BeautifulSoup\n",
    "from pathlib import Path\n",
    "import requests"
   ]
  },
  {
   "cell_type": "code",
   "execution_count": 3,
   "metadata": {},
   "outputs": [],
   "source": [
    "base_url = \"http://openaccess.thecvf.com\"\n",
    "list_url = f\"{base_url}/CVPR2019.py\"\n",
    "html = requests.get(list_url)"
   ]
  },
  {
   "cell_type": "code",
   "execution_count": 4,
   "metadata": {},
   "outputs": [],
   "source": [
    "soup = BeautifulSoup(html.text)"
   ]
  },
  {
   "cell_type": "code",
   "execution_count": 5,
   "metadata": {},
   "outputs": [],
   "source": [
    "dl = soup.dl"
   ]
  },
  {
   "cell_type": "code",
   "execution_count": 25,
   "metadata": {},
   "outputs": [],
   "source": [
    "def dl_parser(dts, dds):\n",
    "    for i in range(len(dts)):\n",
    "        dt = dts[i]\n",
    "        dd_author = dds[2 * i + 0]\n",
    "        dd_url = dds[2 * i + 1]\n",
    "        \n",
    "        title = dt.a.text\n",
    "        author = dd_author.form.a.text\n",
    "        url = f\"{base_url}/{dd_url.a['href']}\"\n",
    "\n",
    "        yield title, url, author"
   ]
  },
  {
   "cell_type": "code",
   "execution_count": 26,
   "metadata": {},
   "outputs": [],
   "source": [
    "output_file = Path(\"cvpr_2019_paper_list.tsv\")\n",
    "\n",
    "with output_file.open(\"w\") as fw:\n",
    "    fw.write(\"title\\turl\\tauthor\\n\")\n",
    "    \n",
    "    dts = dl.find_all(\"dt\")\n",
    "    dds = dl.find_all(\"dd\")\n",
    "    for title, url, author in dl_parser(dts, dds):\n",
    "        fw.write(f\"{title}\\t{url}\\t{author}\\n\")"
   ]
  },
  {
   "cell_type": "code",
   "execution_count": null,
   "metadata": {},
   "outputs": [],
   "source": []
  }
 ],
 "metadata": {
  "kernelspec": {
   "display_name": "Python 3",
   "language": "python",
   "name": "python3"
  },
  "language_info": {
   "codemirror_mode": {
    "name": "ipython",
    "version": 3
   },
   "file_extension": ".py",
   "mimetype": "text/x-python",
   "name": "python",
   "nbconvert_exporter": "python",
   "pygments_lexer": "ipython3",
   "version": "3.6.5"
  }
 },
 "nbformat": 4,
 "nbformat_minor": 4
}
